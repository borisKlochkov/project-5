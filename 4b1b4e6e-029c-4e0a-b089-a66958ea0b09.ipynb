{
 "cells": [
  {
   "cell_type": "markdown",
   "metadata": {},
   "source": [
    "<img src=\"http://s3.amazonaws.com/pix.iemoji.com/images/emoji/apple/ios-12/256/waving-hand.png\" align=left width=44, heigth=44>\n",
    "<div class=\"alert alert-info\">\n",
    "<b> Комментарий ревьюера</b>\n",
    "\n",
    "\n",
    "Привет, Борис! Давай знакомиться! Меня зовут Дмитрий Махортов, и я буду проверять твой проект. Сразу предлагаю общение на «ты» 🙂, но если тебе это не комфортно, то дай знать, и мы перейдем на «вы». \n",
    "\n",
    "Моя основная цель — не указать на совершенные тобою ошибки, а поделиться своим опытом и помочь тебе погрузиться в увлекательный мир работы с данными и вырасти в крепкого профи. Это отдаленная цель. А ближайшая - сделать твою работу еще лучше )).\n",
    "   \n",
    "    \n",
    "Все ключевые этапы в работе выполнены, и я вижу что с проектом ты справшяешься. Есть моменты, которые нужно доработать, но я уверен, у тебя все получится.\n",
    "        \n",
    "Расскажу как обычно проходит проверка:    \n",
    "Бывают моменты, которые требуют пристального внимания. Комментарии по ним выделены <span style='background-color:#F7B3A4'> красным цветом </span> и обозначены значком 🛑. После их доработки проект будет принят.  🙂\n",
    " \n",
    "<span style='background-color:#B7EBA7'> Зеленым цветом </span> и значком ✅ отмечены удачные и элегантные решения, на которые можно опираться в будущих проектах. Или советы «со звездочкой», которые помогут тебе в будущем.\n",
    "\n",
    "<span style='background-color:#F9EDA6'>Жёлтым цветом </span> и значком ⚠️ выделено то, что в следующий раз можно сделать по-другому. Ты можешь учесть эти комментарии при выполнении будущих заданий или доработать проект сейчас (однако это не обязательно).\n",
    "\n",
    "Давай работать над проектом в диалоге: **если ты что-то меняешь в проекте по моим рекомендациям — пиши об этом**. Выбери для своих комментариев какой-то заметный цвет, так мне будет легче отследить изменения. Пожалуйста, **не перемещай, не изменяй и не удаляй мои комментарии**. Всё это поможет выполнить повторную проверку твоего проекта оперативнее. \n",
    "</div>"
   ]
  },
  {
   "cell_type": "markdown",
   "metadata": {},
   "source": [
    "<div class=\"alert\" style=\"background-color:#ead7f7;color:#8737bf\">\n",
    "    <font size=\"3\"><b>образец комментария студента</b></font>\n",
    "   \n",
    "Можешь использовать этот комментарий. Просто удали этот текст и вместо него напиши свой 🙂\n",
    "\n",
    "</div>"
   ]
  },
  {
   "cell_type": "markdown",
   "metadata": {},
   "source": [
    "# Рекомендация тарифов"
   ]
  },
  {
   "cell_type": "markdown",
   "metadata": {},
   "source": [
    "В вашем распоряжении данные о поведении клиентов, которые уже перешли на эти тарифы (из проекта курса «Статистический анализ данных»). Нужно построить модель для задачи классификации, которая выберет подходящий тариф. Предобработка данных не понадобится — вы её уже сделали.\n",
    "\n",
    "Постройте модель с максимально большим значением *accuracy*. Чтобы сдать проект успешно, нужно довести долю правильных ответов по крайней мере до 0.75. Проверьте *accuracy* на тестовой выборке самостоятельно."
   ]
  },
  {
   "cell_type": "markdown",
   "metadata": {},
   "source": [
    "# 1 Импортируем все библиотеки\n"
   ]
  },
  {
   "cell_type": "code",
   "execution_count": 1,
   "metadata": {},
   "outputs": [],
   "source": [
    "import pandas as pd\n",
    "import numpy as np\n",
    "from sklearn.model_selection import train_test_split\n",
    "from sklearn.linear_model import LogisticRegression\n",
    "from sklearn.ensemble import RandomForestClassifier\n",
    "from sklearn.tree import DecisionTreeClassifier\n",
    "from sklearn.metrics import accuracy_score\n",
    "from sklearn.metrics import roc_curve\n",
    "from sklearn.metrics import auc\n",
    "from tqdm import tqdm\n",
    "import matplotlib.pyplot as plt"
   ]
  },
  {
   "cell_type": "markdown",
   "metadata": {},
   "source": [
    "<img src=\"https://emojigraph.org/media/apple/check-mark-button_2705.png\" align=left width=33, heigth=33>\n",
    "<div class=\"alert alert-success\">\n",
    "Отлично, все нужные библиотеки импортированы в начале ноутбука.Это хорошая практика.</div>"
   ]
  },
  {
   "cell_type": "markdown",
   "metadata": {},
   "source": [
    "## Откройте и изучите файл"
   ]
  },
  {
   "cell_type": "code",
   "execution_count": 2,
   "metadata": {},
   "outputs": [
    {
     "data": {
      "text/html": [
       "<div>\n",
       "<style scoped>\n",
       "    .dataframe tbody tr th:only-of-type {\n",
       "        vertical-align: middle;\n",
       "    }\n",
       "\n",
       "    .dataframe tbody tr th {\n",
       "        vertical-align: top;\n",
       "    }\n",
       "\n",
       "    .dataframe thead th {\n",
       "        text-align: right;\n",
       "    }\n",
       "</style>\n",
       "<table border=\"1\" class=\"dataframe\">\n",
       "  <thead>\n",
       "    <tr style=\"text-align: right;\">\n",
       "      <th></th>\n",
       "      <th>calls</th>\n",
       "      <th>minutes</th>\n",
       "      <th>messages</th>\n",
       "      <th>mb_used</th>\n",
       "      <th>is_ultra</th>\n",
       "    </tr>\n",
       "  </thead>\n",
       "  <tbody>\n",
       "    <tr>\n",
       "      <th>0</th>\n",
       "      <td>40.0</td>\n",
       "      <td>311.90</td>\n",
       "      <td>83.0</td>\n",
       "      <td>19915.42</td>\n",
       "      <td>0</td>\n",
       "    </tr>\n",
       "    <tr>\n",
       "      <th>1</th>\n",
       "      <td>85.0</td>\n",
       "      <td>516.75</td>\n",
       "      <td>56.0</td>\n",
       "      <td>22696.96</td>\n",
       "      <td>0</td>\n",
       "    </tr>\n",
       "    <tr>\n",
       "      <th>2</th>\n",
       "      <td>77.0</td>\n",
       "      <td>467.66</td>\n",
       "      <td>86.0</td>\n",
       "      <td>21060.45</td>\n",
       "      <td>0</td>\n",
       "    </tr>\n",
       "    <tr>\n",
       "      <th>3</th>\n",
       "      <td>106.0</td>\n",
       "      <td>745.53</td>\n",
       "      <td>81.0</td>\n",
       "      <td>8437.39</td>\n",
       "      <td>1</td>\n",
       "    </tr>\n",
       "    <tr>\n",
       "      <th>4</th>\n",
       "      <td>66.0</td>\n",
       "      <td>418.74</td>\n",
       "      <td>1.0</td>\n",
       "      <td>14502.75</td>\n",
       "      <td>0</td>\n",
       "    </tr>\n",
       "  </tbody>\n",
       "</table>\n",
       "</div>"
      ],
      "text/plain": [
       "   calls  minutes  messages   mb_used  is_ultra\n",
       "0   40.0   311.90      83.0  19915.42         0\n",
       "1   85.0   516.75      56.0  22696.96         0\n",
       "2   77.0   467.66      86.0  21060.45         0\n",
       "3  106.0   745.53      81.0   8437.39         1\n",
       "4   66.0   418.74       1.0  14502.75         0"
      ]
     },
     "execution_count": 2,
     "metadata": {},
     "output_type": "execute_result"
    }
   ],
   "source": [
    "\n",
    "\n",
    "df = pd.read_csv('/datasets/users_behavior.csv')\n",
    "df.head()\n"
   ]
  },
  {
   "cell_type": "markdown",
   "metadata": {},
   "source": [
    "<img src=\"https://upload.wikimedia.org/wikipedia/commons/b/ba/Warning_sign_4.0.png\" align=left width=44, heigth=33>\n",
    "<div class=\"alert alert-warning\">\n",
    "Не стоит выводить весь датафрейм. Да, внешне ты видишь первые и последние пять строк. Но под капотом интерпретатор python работает со всем датафреймом, занимается оперативная память, пишутся служебные файлы... По итогу это может привести к замедлению работы и проблемам с работоспособностью тетрадки.\n",
    "    \n",
    "Лучше всегда явно ограничивать количество обрабатываемых значений.\n",
    "</div>"
   ]
  },
  {
   "cell_type": "code",
   "execution_count": 3,
   "metadata": {},
   "outputs": [
    {
     "name": "stdout",
     "output_type": "stream",
     "text": [
      "<class 'pandas.core.frame.DataFrame'>\n",
      "RangeIndex: 3214 entries, 0 to 3213\n",
      "Data columns (total 5 columns):\n",
      " #   Column    Non-Null Count  Dtype  \n",
      "---  ------    --------------  -----  \n",
      " 0   calls     3214 non-null   float64\n",
      " 1   minutes   3214 non-null   float64\n",
      " 2   messages  3214 non-null   float64\n",
      " 3   mb_used   3214 non-null   float64\n",
      " 4   is_ultra  3214 non-null   int64  \n",
      "dtypes: float64(4), int64(1)\n",
      "memory usage: 125.7 KB\n"
     ]
    }
   ],
   "source": [
    "df.info()"
   ]
  },
  {
   "cell_type": "markdown",
   "metadata": {},
   "source": [
    "изменим тип данных столбца на int "
   ]
  },
  {
   "cell_type": "code",
   "execution_count": 4,
   "metadata": {},
   "outputs": [],
   "source": [
    "df['messages']=df['messages'].astype(\"int\")"
   ]
  },
  {
   "cell_type": "markdown",
   "metadata": {},
   "source": [
    "Проверим значения содержащиеся в столбцах"
   ]
  },
  {
   "cell_type": "code",
   "execution_count": 5,
   "metadata": {},
   "outputs": [
    {
     "data": {
      "text/html": [
       "<div>\n",
       "<style scoped>\n",
       "    .dataframe tbody tr th:only-of-type {\n",
       "        vertical-align: middle;\n",
       "    }\n",
       "\n",
       "    .dataframe tbody tr th {\n",
       "        vertical-align: top;\n",
       "    }\n",
       "\n",
       "    .dataframe thead th {\n",
       "        text-align: right;\n",
       "    }\n",
       "</style>\n",
       "<table border=\"1\" class=\"dataframe\">\n",
       "  <thead>\n",
       "    <tr style=\"text-align: right;\">\n",
       "      <th></th>\n",
       "      <th>calls</th>\n",
       "      <th>minutes</th>\n",
       "      <th>messages</th>\n",
       "      <th>mb_used</th>\n",
       "      <th>is_ultra</th>\n",
       "    </tr>\n",
       "  </thead>\n",
       "  <tbody>\n",
       "    <tr>\n",
       "      <th>count</th>\n",
       "      <td>3214.000000</td>\n",
       "      <td>3214.000000</td>\n",
       "      <td>3214.000000</td>\n",
       "      <td>3214.000000</td>\n",
       "      <td>3214.000000</td>\n",
       "    </tr>\n",
       "    <tr>\n",
       "      <th>mean</th>\n",
       "      <td>63.038892</td>\n",
       "      <td>438.208787</td>\n",
       "      <td>38.281269</td>\n",
       "      <td>17207.673836</td>\n",
       "      <td>0.306472</td>\n",
       "    </tr>\n",
       "    <tr>\n",
       "      <th>std</th>\n",
       "      <td>33.236368</td>\n",
       "      <td>234.569872</td>\n",
       "      <td>36.148326</td>\n",
       "      <td>7570.968246</td>\n",
       "      <td>0.461100</td>\n",
       "    </tr>\n",
       "    <tr>\n",
       "      <th>min</th>\n",
       "      <td>0.000000</td>\n",
       "      <td>0.000000</td>\n",
       "      <td>0.000000</td>\n",
       "      <td>0.000000</td>\n",
       "      <td>0.000000</td>\n",
       "    </tr>\n",
       "    <tr>\n",
       "      <th>25%</th>\n",
       "      <td>40.000000</td>\n",
       "      <td>274.575000</td>\n",
       "      <td>9.000000</td>\n",
       "      <td>12491.902500</td>\n",
       "      <td>0.000000</td>\n",
       "    </tr>\n",
       "    <tr>\n",
       "      <th>50%</th>\n",
       "      <td>62.000000</td>\n",
       "      <td>430.600000</td>\n",
       "      <td>30.000000</td>\n",
       "      <td>16943.235000</td>\n",
       "      <td>0.000000</td>\n",
       "    </tr>\n",
       "    <tr>\n",
       "      <th>75%</th>\n",
       "      <td>82.000000</td>\n",
       "      <td>571.927500</td>\n",
       "      <td>57.000000</td>\n",
       "      <td>21424.700000</td>\n",
       "      <td>1.000000</td>\n",
       "    </tr>\n",
       "    <tr>\n",
       "      <th>max</th>\n",
       "      <td>244.000000</td>\n",
       "      <td>1632.060000</td>\n",
       "      <td>224.000000</td>\n",
       "      <td>49745.730000</td>\n",
       "      <td>1.000000</td>\n",
       "    </tr>\n",
       "  </tbody>\n",
       "</table>\n",
       "</div>"
      ],
      "text/plain": [
       "             calls      minutes     messages       mb_used     is_ultra\n",
       "count  3214.000000  3214.000000  3214.000000   3214.000000  3214.000000\n",
       "mean     63.038892   438.208787    38.281269  17207.673836     0.306472\n",
       "std      33.236368   234.569872    36.148326   7570.968246     0.461100\n",
       "min       0.000000     0.000000     0.000000      0.000000     0.000000\n",
       "25%      40.000000   274.575000     9.000000  12491.902500     0.000000\n",
       "50%      62.000000   430.600000    30.000000  16943.235000     0.000000\n",
       "75%      82.000000   571.927500    57.000000  21424.700000     1.000000\n",
       "max     244.000000  1632.060000   224.000000  49745.730000     1.000000"
      ]
     },
     "execution_count": 5,
     "metadata": {},
     "output_type": "execute_result"
    }
   ],
   "source": [
    "df.describe()"
   ]
  },
  {
   "cell_type": "markdown",
   "metadata": {},
   "source": [
    "<img src=\"https://emojigraph.org/media/apple/check-mark-button_2705.png\" align=left width=33, heigth=33>\n",
    "<div class=\"alert alert-success\">\n",
    "Данные загружены и исследованы.</div>"
   ]
  },
  {
   "cell_type": "markdown",
   "metadata": {},
   "source": [
    "# Вывод\n"
   ]
  },
  {
   "cell_type": "markdown",
   "metadata": {},
   "source": [
    "Данные впорядке,\n",
    "Пропущенных значений нет\n",
    "Типы столбцов в порядке\n",
    "Дубликатов нет\n"
   ]
  },
  {
   "cell_type": "markdown",
   "metadata": {},
   "source": [
    "<img src=\"https://emojigraph.org/media/apple/check-mark-button_2705.png\" align=left width=33, heigth=33>\n",
    "<div class=\"alert alert-success\">\n",
    " 👍 </div>"
   ]
  },
  {
   "cell_type": "markdown",
   "metadata": {},
   "source": [
    "## Разбейте данные на выборки"
   ]
  },
  {
   "cell_type": "code",
   "execution_count": 6,
   "metadata": {},
   "outputs": [],
   "source": [
    "features = df.loc[:,~df.columns.isin([\"is_ultra\"])]\n",
    "target = df[\"is_ultra\"]"
   ]
  },
  {
   "cell_type": "markdown",
   "metadata": {},
   "source": [
    "<img src=\"https://upload.wikimedia.org/wikipedia/commons/b/ba/Warning_sign_4.0.png\" align=left width=44, heigth=33>\n",
    "<div class=\"alert alert-warning\">\n",
    "    \n",
    "Вижу что ты заботишья о читаемости и корректных именах переменных. Но выбранное тобой имя `design_matrix` не является \"говорящим\". Можно использовать `features` - признаки\n",
    "\n",
    "----    \n",
    "    \n",
    "Выбранный тобой способ убрать колонку из признаков имеет право на жизнь, но мне кажется использование drop() выглядит более понятно.  Но это очень субъективно.    \n",
    "</div>"
   ]
  },
  {
   "cell_type": "code",
   "execution_count": 7,
   "metadata": {},
   "outputs": [],
   "source": [
    "(features_train,\n",
    " features_test,\n",
    " target_train,\n",
    " target_test) = train_test_split(features,\n",
    "                                        target,\n",
    "                                        test_size = 0.33,\n",
    "                                        random_state = 12345\n",
    "                                       )"
   ]
  },
  {
   "cell_type": "markdown",
   "metadata": {},
   "source": [
    "Разделим выборку на тестовую и валидационную\n"
   ]
  },
  {
   "cell_type": "code",
   "execution_count": 8,
   "metadata": {},
   "outputs": [],
   "source": [
    "(features_valid,\n",
    " features_test,\n",
    " target_valid,\n",
    " target_test) = train_test_split(features_test,\n",
    "                                        target_test,\n",
    "                                        test_size = 0.5,\n",
    "                                        random_state = 12345\n",
    "                                       )"
   ]
  },
  {
   "cell_type": "markdown",
   "metadata": {},
   "source": [
    "<img src=\"https://emojigraph.org/media/apple/check-mark-button_2705.png\" align=left width=33, heigth=33>\n",
    "<div class=\"alert alert-success\">\n",
    "Выборки получены корректно</div>"
   ]
  },
  {
   "cell_type": "markdown",
   "metadata": {},
   "source": [
    "<img src=\"https://emojigraph.org/media/apple/check-mark-button_2705.png\" align=left width=33, heigth=33>\n",
    "<div class=\"alert alert-success\">\n",
    "Совет:  обрати внимание на аргумент stratify функции train_test_split. Стратификация особенно важна, когда у нас мало данных и возможен дисбаланс классов в обучении / валидации / тесте.\n",
    "</div>"
   ]
  },
  {
   "cell_type": "markdown",
   "metadata": {},
   "source": [
    "<img src=\"https://upload.wikimedia.org/wikipedia/commons/b/ba/Warning_sign_4.0.png\" align=left width=44, heigth=33>\n",
    "<div class=\"alert alert-warning\">\n",
    "Рекомендую явно вывести размеры получившихся выборок (с использованием .shape и print), это поможет быстро оценить корректность разделения на выборки.\n",
    "</div>"
   ]
  },
  {
   "cell_type": "markdown",
   "metadata": {},
   "source": [
    "## Исследуйте модели"
   ]
  },
  {
   "cell_type": "markdown",
   "metadata": {},
   "source": [
    "Random Forest"
   ]
  },
  {
   "cell_type": "code",
   "execution_count": 9,
   "metadata": {},
   "outputs": [
    {
     "name": "stderr",
     "output_type": "stream",
     "text": [
      "100%|██████████| 49/49 [01:39<00:00,  2.03s/it]\n"
     ]
    }
   ],
   "source": [
    "best_RF = None\n",
    "best_accuracy_RF = 0\n",
    "best_est_RF = 0\n",
    "best_depth_RF = 0\n",
    "for est in tqdm(range(2,51)):\n",
    "    for depth in range(2,25):\n",
    "        RF = RandomForestClassifier(random_state = 12345,n_estimators = est, max_depth = depth)\n",
    "        RF.fit(features_train,target_train)\n",
    "        prediction_valid_RF = RF.predict(features_valid)\n",
    "        accuracy_RF = accuracy_score(prediction_valid_RF, target_valid)\n",
    "        if best_accuracy_RF < accuracy_RF:\n",
    "            best_RF = RF\n",
    "            best_depth_RF = depth\n",
    "            best_est_RF = est\n",
    "            best_accuracy_RF = accuracy_RF"
   ]
  },
  {
   "cell_type": "markdown",
   "metadata": {},
   "source": [
    "<img src=\"https://emojigraph.org/media/apple/check-mark-button_2705.png\" align=left width=33, heigth=33>\n",
    "<div class=\"alert alert-success\">\n",
    "Случайный лес исследован корректно:\n",
    "    \n",
    " - исследовано 49х23 комбинаций значений гиперпараметров\n",
    " - модель обучена на обучающем наборе\n",
    " - получена оценка качества на валидационном наборе\n",
    " - перебор гиперпараметров осуществляется в цикле\n",
    "</div>"
   ]
  },
  {
   "cell_type": "markdown",
   "metadata": {},
   "source": [
    "Decision Tree"
   ]
  },
  {
   "cell_type": "code",
   "execution_count": 10,
   "metadata": {},
   "outputs": [
    {
     "name": "stderr",
     "output_type": "stream",
     "text": [
      "100%|██████████| 20/20 [00:00<00:00, 106.88it/s]\n"
     ]
    }
   ],
   "source": [
    "best_DT = None\n",
    "best_accuracy_DT = 0\n",
    "best_depth_DT = 0\n",
    "for depth in tqdm(range(2,22)):\n",
    "    DT = DecisionTreeClassifier(random_state = 12345, max_depth = depth)\n",
    "    DT.fit(features_train,target_train)\n",
    "    prediction_valid_DT = DT.predict(features_valid)\n",
    "    accuracy_DT = accuracy_score(prediction_valid_DT, target_valid)\n",
    "    if best_accuracy_DT < accuracy_DT:\n",
    "        best_DT = DT\n",
    "        best_accuracy_DT = accuracy_DT\n",
    "        best_depth_DT = depth"
   ]
  },
  {
   "cell_type": "markdown",
   "metadata": {},
   "source": [
    "<img src=\"https://emojigraph.org/media/apple/check-mark-button_2705.png\" align=left width=33, heigth=33>\n",
    "<div class=\"alert alert-success\">\n",
    "Дерево решений исследовано  корректно:\n",
    "    \n",
    " - исследовано 48 значений гиперпараметров\n",
    " - модель обучена на обучающем наборе\n",
    " - получена оценка качества на валидационном наборе\n",
    " - перебор гиперпараметров осуществляется в цикле\n",
    "</div>"
   ]
  },
  {
   "attachments": {
    "image.png": {
     "image/png": "[encoded data removed]"
    }
   },
   "cell_type": "markdown",
   "metadata": {},
   "source": [
    "<img src=\"https://upload.wikimedia.org/wikipedia/commons/b/ba/Warning_sign_4.0.png\" align=left width=44, heigth=33>\n",
    "<div class=\"alert alert-warning\">\n",
    "Нет смысла исследовать настолько глубокие деревья. Попробую объяснить почему. Количество листьев в деревьях растет экспоненциально ( фолмула 2**(N-1)), и дерево, в котором все ветви одной длинны может запомнить всю нашу обучающую выборку уже на уровне 12. На практике, дерево полностью запоминает выборку ближе к 20. Это можно легко увидеть, если обучить просто случайное дерево без аргументов, а затем посмотреть его характеристики.\n",
    "    \n",
    "Вот график, показывающий метрики для дерева решений на этом проекте. После 22 модель выходит на плато, т.е. полностью переобучается.\n",
    "    \n",
    "![image.png](attachment:image.png)    \n",
    "</div>"
   ]
  },
  {
   "cell_type": "markdown",
   "metadata": {},
   "source": [
    "Logistic Regression"
   ]
  },
  {
   "cell_type": "code",
   "execution_count": 12,
   "metadata": {},
   "outputs": [],
   "source": [
    "LR = LogisticRegression(random_state = 12345,max_iter= 1000,tol=1e-5,solver = 'lbfgs' )\n",
    "LR.fit(features_train,target_train)\n",
    "prediction_valid_LR = LR.predict(features_valid)\n",
    "accuracy_LR = accuracy_score(prediction_valid_LR, target_valid)"
   ]
  },
  {
   "cell_type": "code",
   "execution_count": 13,
   "metadata": {},
   "outputs": [
    {
     "name": "stdout",
     "output_type": "stream",
     "text": [
      "Logistic Regression: 0.7566037735849057\n",
      "Random Forest: 0.8245283018867925\n",
      "Decision Tree: 0.8018867924528302\n"
     ]
    }
   ],
   "source": [
    "print(f\"Logistic Regression: {accuracy_LR}\")\n",
    "print(f\"Random Forest: {best_accuracy_RF}\")\n",
    "print(f\"Decision Tree: {best_accuracy_DT}\")"
   ]
  },
  {
   "cell_type": "markdown",
   "metadata": {},
   "source": [
    "<img src=\"https://emojigraph.org/media/apple/check-mark-button_2705.png\" align=left width=33, heigth=33>\n",
    "<div class=\"alert alert-success\">\n",
    "Логистическая регрессия исследована корректно.\n",
    "</div>\n"
   ]
  },
  {
   "cell_type": "markdown",
   "metadata": {},
   "source": [
    "Вывод"
   ]
  },
  {
   "cell_type": "markdown",
   "metadata": {},
   "source": [
    "Основываясь на показателе точности, можно прийти к выводу, что наиболее качественные результаты прогнозирует Random Forest"
   ]
  },
  {
   "cell_type": "markdown",
   "metadata": {},
   "source": [
    "<img src=\"https://emojigraph.org/media/apple/check-mark-button_2705.png\" align=left width=33, heigth=33>\n",
    "<div class=\"alert alert-success\">\n",
    "Молодец, есть выводы, и выбрана лучша модель. \n",
    "</div>\n"
   ]
  },
  {
   "cell_type": "markdown",
   "metadata": {},
   "source": [
    "## Проверьте модель на тестовой выборке"
   ]
  },
  {
   "cell_type": "markdown",
   "metadata": {},
   "source": [
    " <img src=\"https://upload.wikimedia.org/wikipedia/commons/thumb/8/81/Stop_sign.png/240px-Stop_sign.png\" align=left width=35, heigth=35>\n",
    " <div class=\"alert alert-danger\">\n",
    "К данному этапу мы должны подойти с одной выбранной моделью. Любое использование тестовой выборки (в том числе для выбора лучшей модели) - это нарушение.</div>"
   ]
  },
  {
   "cell_type": "markdown",
   "metadata": {},
   "source": [
    "<img src=\"https://emojigraph.org/media/apple/check-mark-button_2705.png\" align=left width=33, heigth=33>\n",
    "<div class=\"alert alert-success\"> \n",
    "<b>минутка теории</b>\n",
    "    \n",
    "<b>общий дизайн ML исследования</b>\n",
    "\n",
    "В курсе мы используем следующую схему оценки качества алгоритмов:\n",
    "\n",
    "1. Все данные делятся на 3 части: \n",
    "   - обучение,\n",
    "   - валидация,\n",
    "   - тест.\n",
    "\n",
    "2. Каждый из алгоритмов будет обучен на обучающей выборке. \n",
    "3. Подбор гиперпараметров мы осуществляем с помощью оценки на валидационной выборке.\n",
    "4. Когда гиперпараметры подобраны, качество каждого алгоритма мы оцениваем с помощью валидационной выборки.\n",
    "    \n",
    "5. Выбираем лучший по оценке на валидационной выборке.\n",
    "6. И уже самый лучший алгоритм оцениваем по тестовой выборке.\n",
    "\n",
    "\n",
    "</div>"
   ]
  },
  {
   "cell_type": "code",
   "execution_count": 16,
   "metadata": {},
   "outputs": [],
   "source": [
    "\n",
    "prediction_test_RF = best_RF.predict(features_test)\n"
   ]
  },
  {
   "cell_type": "code",
   "execution_count": 17,
   "metadata": {},
   "outputs": [],
   "source": [
    "\n",
    "accuracy_RF_test = accuracy_score(prediction_test_RF, target_test)\n"
   ]
  },
  {
   "cell_type": "code",
   "execution_count": 18,
   "metadata": {},
   "outputs": [
    {
     "name": "stdout",
     "output_type": "stream",
     "text": [
      "Random Forest: 0.7777777777777778\n"
     ]
    }
   ],
   "source": [
    "\n",
    "print(f\"Random Forest: {accuracy_RF_test}\")\n"
   ]
  },
  {
   "cell_type": "markdown",
   "metadata": {},
   "source": [
    "<img src=\"https://emojigraph.org/media/apple/check-mark-button_2705.png\" align=left width=33, heigth=33>\n",
    "<div class=\"alert alert-success\">\n",
    "Совет:  Сейчас, когда гиперпараметры подобраны и валидационная выборка нам не нужна, мы можем обучить модель на большой выборке (обучающая + валидационная), а тестирование новой модели произвести уже на тестовой выборке.\n",
    "    \n",
    "Объединить выборки можно с помощью pd.concat\n",
    "</div>"
   ]
  },
  {
   "cell_type": "markdown",
   "metadata": {},
   "source": [
    "Вывод"
   ]
  },
  {
   "cell_type": "markdown",
   "metadata": {},
   "source": [
    "Наиболее адекватные предсказания делает Random Forest, это видно по точности предсказания на валидационной и на тестовой выборке"
   ]
  },
  {
   "cell_type": "markdown",
   "metadata": {},
   "source": [
    "## (бонус) Проверьте модели на адекватность"
   ]
  },
  {
   "cell_type": "markdown",
   "metadata": {},
   "source": [
    "<img src=\"https://upload.wikimedia.org/wikipedia/commons/b/ba/Warning_sign_4.0.png\" align=left width=44, heigth=33>\n",
    "<div class=\"alert alert-warning\">\n",
    "В основе проверки на адекватность лежит очень простая идея. Модель считается адекватной, если способна \"побить\" любой \"наивный\" алгоритм, например предсказывающий случайный или постояный ответ. \n",
    "\n",
    "Для нашего проекта самую высокую точность дает  \"наивный\" алгоритм, всегда предсказывающий самый популярный ответ (у нас это 0). Проверить точность такого подхода можно вручную или используя DummyClassifier.\n",
    "</div>"
   ]
  },
  {
   "cell_type": "code",
   "execution_count": null,
   "metadata": {},
   "outputs": [],
   "source": []
  },
  {
   "cell_type": "markdown",
   "metadata": {},
   "source": [
    "## Чек-лист готовности проекта"
   ]
  },
  {
   "cell_type": "markdown",
   "metadata": {},
   "source": [
    "Поставьте 'x' в выполненных пунктах. Далее нажмите Shift+Enter."
   ]
  },
  {
   "cell_type": "markdown",
   "metadata": {},
   "source": [
    "- [x] Jupyter Notebook открыт\n",
    "- [x] Весь код исполняется без ошибок\n",
    "- [x] Ячейки с кодом расположены в порядке исполнения\n",
    "- [x] Выполнено задание 1: данные загружены и изучены\n",
    "- [x] Выполнено задание 2: данные разбиты на три выборки\n",
    "- [x] Выполнено задание 3: проведено исследование моделей\n",
    "    - [x] Рассмотрено больше одной модели\n",
    "    - [x] Рассмотрено хотя бы 3 значения гипепараметров для какой-нибудь модели\n",
    "    - [x] Написаны выводы по результатам исследования\n",
    "- [x] Выполнено задание 3: Проведено тестирование\n",
    "- [x] Удалось достичь accuracy не меньше 0.75\n"
   ]
  },
  {
   "cell_type": "markdown",
   "metadata": {},
   "source": [
    "<img src=\"http://s3.amazonaws.com/pix.iemoji.com/images/emoji/apple/ios-12/256/waving-hand.png\" align=left width=44, heigth=44>\n",
    "<div class=\"alert alert-info\">\n",
    "<b> Заключительный комментарий v2</b>\n",
    "\n",
    "Проект принят. Поздравляю и желаю дальнейших успехов!\n",
    "</div>"
   ]
  },
  {
   "cell_type": "markdown",
   "metadata": {},
   "source": [
    "<img src=\"http://s3.amazonaws.com/pix.iemoji.com/images/emoji/apple/ios-12/256/waving-hand.png\" align=left width=44, heigth=44>\n",
    "<div class=\"alert alert-info\">\n",
    "<b> Заключительный комментарий</b>\n",
    "\n",
    "В целом мне все понравилось: твоя работа выполнена на хорошем уровне с минимальными помарками.\n",
    "Также работа выглядит аккуратной и хорошо оформленной.\n",
    "Вижу, что тебе дается python, и инструментарий машинного обучения.\n",
    "\n",
    "Ошибка, которую нужно обязательно исправить (красный комментарий):  Финальное тестирование мы выполняем для одной модели, выбранной по оценкам на валидации. \n",
    "\n",
    "     \n",
    "Жду твоих исправлений :)\n",
    "</div>"
   ]
  },
  {
   "cell_type": "markdown",
   "metadata": {},
   "source": []
  },
  {
   "cell_type": "code",
   "execution_count": null,
   "metadata": {},
   "outputs": [],
   "source": []
  }
 ],
 "metadata": {
  "ExecuteTimeLog": [
   {
    "duration": 1189,
    "start_time": "2023-12-19T18:27:00.275Z"
   },
   {
    "duration": 594,
    "start_time": "2023-12-20T19:12:02.000Z"
   },
   {
    "duration": 8,
    "start_time": "2023-12-20T19:12:06.598Z"
   },
   {
    "duration": 1051,
    "start_time": "2023-12-20T19:12:18.545Z"
   },
   {
    "duration": 6,
    "start_time": "2023-12-20T19:12:19.598Z"
   },
   {
    "duration": 7,
    "start_time": "2023-12-20T19:12:19.605Z"
   },
   {
    "duration": 9,
    "start_time": "2023-12-20T19:12:40.329Z"
   },
   {
    "duration": 5,
    "start_time": "2023-12-20T19:12:46.340Z"
   },
   {
    "duration": 9,
    "start_time": "2023-12-20T19:12:53.642Z"
   },
   {
    "duration": 166,
    "start_time": "2023-12-20T19:13:19.718Z"
   },
   {
    "duration": 23,
    "start_time": "2023-12-20T19:13:38.642Z"
   },
   {
    "duration": 143,
    "start_time": "2023-12-20T19:13:49.294Z"
   },
   {
    "duration": 555,
    "start_time": "2023-12-20T19:44:10.770Z"
   },
   {
    "duration": 55,
    "start_time": "2023-12-20T19:51:11.961Z"
   },
   {
    "duration": 5,
    "start_time": "2023-12-20T19:51:16.746Z"
   },
   {
    "duration": 6,
    "start_time": "2023-12-20T19:52:57.033Z"
   },
   {
    "duration": 6,
    "start_time": "2023-12-20T19:53:07.910Z"
   },
   {
    "duration": 5,
    "start_time": "2023-12-20T19:54:07.668Z"
   },
   {
    "duration": 263,
    "start_time": "2023-12-20T19:55:15.472Z"
   },
   {
    "duration": 6,
    "start_time": "2023-12-20T19:59:49.809Z"
   },
   {
    "duration": 4,
    "start_time": "2023-12-20T20:00:07.210Z"
   },
   {
    "duration": 4,
    "start_time": "2023-12-20T20:00:14.184Z"
   },
   {
    "duration": 5,
    "start_time": "2023-12-20T20:00:19.014Z"
   },
   {
    "duration": 4,
    "start_time": "2023-12-20T20:00:21.863Z"
   },
   {
    "duration": 5,
    "start_time": "2023-12-20T20:00:25.327Z"
   },
   {
    "duration": 5,
    "start_time": "2023-12-20T20:01:52.063Z"
   },
   {
    "duration": 4,
    "start_time": "2023-12-20T20:01:56.074Z"
   },
   {
    "duration": 4,
    "start_time": "2023-12-20T20:01:59.162Z"
   },
   {
    "duration": 4,
    "start_time": "2023-12-20T20:02:03.951Z"
   },
   {
    "duration": 5,
    "start_time": "2023-12-20T20:02:08.109Z"
   },
   {
    "duration": 5,
    "start_time": "2023-12-20T20:02:50.175Z"
   },
   {
    "duration": 5,
    "start_time": "2023-12-20T20:02:53.528Z"
   },
   {
    "duration": 4,
    "start_time": "2023-12-20T20:02:57.842Z"
   },
   {
    "duration": 5,
    "start_time": "2023-12-20T20:03:29.487Z"
   },
   {
    "duration": 5,
    "start_time": "2023-12-20T20:03:33.681Z"
   },
   {
    "duration": 220,
    "start_time": "2023-12-20T20:10:03.376Z"
   },
   {
    "duration": 166,
    "start_time": "2023-12-20T20:11:14.364Z"
   },
   {
    "duration": 6,
    "start_time": "2023-12-20T20:11:23.678Z"
   },
   {
    "duration": 5,
    "start_time": "2023-12-20T20:11:30.641Z"
   },
   {
    "duration": 5,
    "start_time": "2023-12-20T20:11:34.466Z"
   },
   {
    "duration": 5,
    "start_time": "2023-12-20T20:12:02.139Z"
   },
   {
    "duration": 4,
    "start_time": "2023-12-20T20:24:46.178Z"
   },
   {
    "duration": 8,
    "start_time": "2023-12-20T20:24:52.682Z"
   },
   {
    "duration": 6,
    "start_time": "2023-12-20T20:25:00.074Z"
   },
   {
    "duration": 4,
    "start_time": "2023-12-20T20:25:59.390Z"
   },
   {
    "duration": 3,
    "start_time": "2023-12-20T20:26:02.378Z"
   },
   {
    "duration": 4,
    "start_time": "2023-12-20T20:26:15.520Z"
   },
   {
    "duration": 5,
    "start_time": "2023-12-20T20:26:26.038Z"
   },
   {
    "duration": 6,
    "start_time": "2023-12-20T20:26:43.703Z"
   },
   {
    "duration": 6,
    "start_time": "2023-12-20T20:26:56.697Z"
   },
   {
    "duration": 5,
    "start_time": "2023-12-20T20:26:58.916Z"
   },
   {
    "duration": 20,
    "start_time": "2023-12-20T20:28:50.016Z"
   },
   {
    "duration": 18,
    "start_time": "2023-12-20T20:28:55.826Z"
   },
   {
    "duration": 18,
    "start_time": "2023-12-20T20:29:04.727Z"
   },
   {
    "duration": 14,
    "start_time": "2023-12-20T20:29:19.301Z"
   },
   {
    "duration": 17,
    "start_time": "2023-12-20T20:29:52.754Z"
   },
   {
    "duration": 121,
    "start_time": "2023-12-20T20:31:36.495Z"
   },
   {
    "duration": 59,
    "start_time": "2023-12-20T20:31:38.379Z"
   },
   {
    "duration": 16,
    "start_time": "2023-12-20T20:31:47.117Z"
   },
   {
    "duration": 16,
    "start_time": "2023-12-20T20:31:49.173Z"
   },
   {
    "duration": 15,
    "start_time": "2023-12-20T20:32:33.363Z"
   },
   {
    "duration": 24,
    "start_time": "2023-12-20T20:32:36.014Z"
   },
   {
    "duration": 1037,
    "start_time": "2023-12-20T20:32:46.620Z"
   },
   {
    "duration": 5,
    "start_time": "2023-12-20T20:32:47.659Z"
   },
   {
    "duration": 48,
    "start_time": "2023-12-20T20:32:47.666Z"
   },
   {
    "duration": 328,
    "start_time": "2023-12-20T20:32:47.716Z"
   },
   {
    "duration": 18,
    "start_time": "2023-12-20T20:32:48.045Z"
   },
   {
    "duration": 103,
    "start_time": "2023-12-20T20:33:04.550Z"
   },
   {
    "duration": 23,
    "start_time": "2023-12-20T20:33:23.807Z"
   },
   {
    "duration": 21,
    "start_time": "2023-12-20T20:33:33.353Z"
   },
   {
    "duration": 18,
    "start_time": "2023-12-20T20:33:40.815Z"
   },
   {
    "duration": 44,
    "start_time": "2023-12-20T20:34:45.750Z"
   },
   {
    "duration": 47,
    "start_time": "2023-12-20T20:34:56.948Z"
   },
   {
    "duration": 15,
    "start_time": "2023-12-20T20:35:24.312Z"
   },
   {
    "duration": 16,
    "start_time": "2023-12-20T20:35:33.863Z"
   },
   {
    "duration": 24,
    "start_time": "2023-12-20T20:36:12.774Z"
   },
   {
    "duration": 17,
    "start_time": "2023-12-20T20:37:07.406Z"
   },
   {
    "duration": 11,
    "start_time": "2023-12-20T20:37:45.383Z"
   },
   {
    "duration": 16,
    "start_time": "2023-12-20T20:37:52.541Z"
   },
   {
    "duration": 24,
    "start_time": "2023-12-20T20:39:24.826Z"
   },
   {
    "duration": 3,
    "start_time": "2023-12-20T20:39:50.435Z"
   },
   {
    "duration": 3437,
    "start_time": "2023-12-20T20:39:59.471Z"
   },
   {
    "duration": 3425,
    "start_time": "2023-12-20T20:40:19.590Z"
   },
   {
    "duration": 3458,
    "start_time": "2023-12-20T20:40:32.596Z"
   },
   {
    "duration": 2240,
    "start_time": "2023-12-20T20:40:37.974Z"
   },
   {
    "duration": 2232,
    "start_time": "2023-12-20T20:40:50.878Z"
   },
   {
    "duration": 8,
    "start_time": "2023-12-20T20:51:09.056Z"
   },
   {
    "duration": 10,
    "start_time": "2023-12-20T20:51:24.123Z"
   },
   {
    "duration": 11,
    "start_time": "2023-12-20T20:51:57.113Z"
   },
   {
    "duration": 52,
    "start_time": "2023-12-20T20:52:18.780Z"
   },
   {
    "duration": 47,
    "start_time": "2023-12-20T20:52:27.936Z"
   },
   {
    "duration": 51,
    "start_time": "2023-12-20T20:52:35.565Z"
   },
   {
    "duration": 48,
    "start_time": "2023-12-20T20:53:17.901Z"
   },
   {
    "duration": 53,
    "start_time": "2023-12-20T20:53:50.374Z"
   },
   {
    "duration": 972,
    "start_time": "2023-12-20T20:54:06.336Z"
   },
   {
    "duration": 992,
    "start_time": "2023-12-20T20:54:13.955Z"
   },
   {
    "duration": 969,
    "start_time": "2023-12-20T20:54:42.250Z"
   },
   {
    "duration": 1038,
    "start_time": "2023-12-20T20:59:16.756Z"
   },
   {
    "duration": 11,
    "start_time": "2023-12-20T20:59:17.796Z"
   },
   {
    "duration": 91,
    "start_time": "2023-12-20T20:59:17.809Z"
   },
   {
    "duration": 0,
    "start_time": "2023-12-20T20:59:17.902Z"
   },
   {
    "duration": 0,
    "start_time": "2023-12-20T20:59:17.903Z"
   },
   {
    "duration": 178,
    "start_time": "2023-12-20T20:59:30.418Z"
   },
   {
    "duration": 1080,
    "start_time": "2023-12-20T20:59:49.833Z"
   },
   {
    "duration": 5,
    "start_time": "2023-12-20T20:59:50.915Z"
   },
   {
    "duration": 4068,
    "start_time": "2023-12-20T20:59:50.921Z"
   },
   {
    "duration": 334,
    "start_time": "2023-12-20T20:59:54.991Z"
   },
   {
    "duration": 18,
    "start_time": "2023-12-20T20:59:55.327Z"
   },
   {
    "duration": 3692,
    "start_time": "2023-12-20T21:00:12.974Z"
   },
   {
    "duration": 3599,
    "start_time": "2023-12-20T21:00:22.327Z"
   },
   {
    "duration": 3379,
    "start_time": "2023-12-20T21:01:19.125Z"
   },
   {
    "duration": 1108,
    "start_time": "2023-12-20T21:01:27.374Z"
   },
   {
    "duration": 5,
    "start_time": "2023-12-20T21:01:28.484Z"
   },
   {
    "duration": 3955,
    "start_time": "2023-12-20T21:01:28.491Z"
   },
   {
    "duration": 305,
    "start_time": "2023-12-20T21:01:32.447Z"
   },
   {
    "duration": 19,
    "start_time": "2023-12-20T21:01:32.754Z"
   },
   {
    "duration": 49,
    "start_time": "2023-12-20T21:02:19.008Z"
   },
   {
    "duration": 3616,
    "start_time": "2023-12-20T21:02:23.654Z"
   },
   {
    "duration": 9,
    "start_time": "2023-12-20T21:08:20.575Z"
   },
   {
    "duration": 8,
    "start_time": "2023-12-20T21:08:28.835Z"
   },
   {
    "duration": 1010,
    "start_time": "2023-12-20T21:08:36.051Z"
   },
   {
    "duration": 5,
    "start_time": "2023-12-20T21:08:37.063Z"
   },
   {
    "duration": 3910,
    "start_time": "2023-12-20T21:08:37.070Z"
   },
   {
    "duration": 19,
    "start_time": "2023-12-20T21:08:40.982Z"
   },
   {
    "duration": 17,
    "start_time": "2023-12-20T21:08:41.002Z"
   },
   {
    "duration": 168,
    "start_time": "2023-12-20T21:08:52.784Z"
   },
   {
    "duration": 4236,
    "start_time": "2023-12-20T21:09:56.626Z"
   },
   {
    "duration": 84,
    "start_time": "2023-12-20T21:10:07.368Z"
   },
   {
    "duration": 66,
    "start_time": "2023-12-20T21:10:18.407Z"
   },
   {
    "duration": 94,
    "start_time": "2023-12-20T21:10:36.596Z"
   },
   {
    "duration": 96,
    "start_time": "2023-12-20T21:10:42.315Z"
   },
   {
    "duration": 1076,
    "start_time": "2023-12-20T21:10:46.361Z"
   },
   {
    "duration": 1060,
    "start_time": "2023-12-20T21:11:19.823Z"
   },
   {
    "duration": 1097,
    "start_time": "2023-12-20T21:11:39.358Z"
   },
   {
    "duration": 1086,
    "start_time": "2023-12-20T21:11:44.230Z"
   },
   {
    "duration": 199,
    "start_time": "2023-12-20T21:12:30.778Z"
   },
   {
    "duration": 49,
    "start_time": "2023-12-20T21:17:22.475Z"
   },
   {
    "duration": 50,
    "start_time": "2023-12-20T21:17:26.196Z"
   },
   {
    "duration": 47,
    "start_time": "2023-12-20T21:17:46.622Z"
   },
   {
    "duration": 60,
    "start_time": "2023-12-20T21:17:49.450Z"
   },
   {
    "duration": 52,
    "start_time": "2023-12-20T21:17:52.188Z"
   },
   {
    "duration": 1581,
    "start_time": "2024-01-24T08:55:08.298Z"
   },
   {
    "duration": 77,
    "start_time": "2024-01-24T08:55:56.958Z"
   },
   {
    "duration": 111,
    "start_time": "2024-01-24T08:56:16.305Z"
   },
   {
    "duration": 15,
    "start_time": "2024-01-24T08:56:35.992Z"
   },
   {
    "duration": 8,
    "start_time": "2024-01-24T08:56:56.765Z"
   },
   {
    "duration": 5,
    "start_time": "2024-01-24T08:57:19.657Z"
   },
   {
    "duration": 8,
    "start_time": "2024-01-24T08:58:45.795Z"
   },
   {
    "duration": 23,
    "start_time": "2024-01-24T08:58:52.299Z"
   },
   {
    "duration": 46,
    "start_time": "2024-01-24T10:33:10.201Z"
   },
   {
    "duration": 6,
    "start_time": "2024-01-24T10:33:17.801Z"
   },
   {
    "duration": 1557,
    "start_time": "2024-01-24T10:33:35.590Z"
   },
   {
    "duration": 133,
    "start_time": "2024-01-24T10:33:37.149Z"
   },
   {
    "duration": 10,
    "start_time": "2024-01-24T10:33:37.284Z"
   },
   {
    "duration": 44,
    "start_time": "2024-01-24T10:33:37.296Z"
   },
   {
    "duration": 98,
    "start_time": "2024-01-24T10:33:37.341Z"
   },
   {
    "duration": 58,
    "start_time": "2024-01-24T10:33:37.440Z"
   },
   {
    "duration": 38,
    "start_time": "2024-01-24T10:33:37.500Z"
   },
   {
    "duration": 0,
    "start_time": "2024-01-24T10:34:46.789Z"
   },
   {
    "duration": 50,
    "start_time": "2024-01-24T14:39:32.261Z"
   },
   {
    "duration": 1657,
    "start_time": "2024-01-24T14:39:54.840Z"
   },
   {
    "duration": 131,
    "start_time": "2024-01-24T14:39:56.499Z"
   },
   {
    "duration": 13,
    "start_time": "2024-01-24T14:39:56.632Z"
   },
   {
    "duration": 4,
    "start_time": "2024-01-24T14:39:56.647Z"
   },
   {
    "duration": 27,
    "start_time": "2024-01-24T14:39:56.653Z"
   },
   {
    "duration": 11,
    "start_time": "2024-01-24T14:39:56.681Z"
   },
   {
    "duration": 1990,
    "start_time": "2024-01-24T14:39:56.693Z"
   },
   {
    "duration": 0,
    "start_time": "2024-01-24T14:39:58.685Z"
   },
   {
    "duration": 0,
    "start_time": "2024-01-24T14:39:58.686Z"
   },
   {
    "duration": 0,
    "start_time": "2024-01-24T14:39:58.687Z"
   },
   {
    "duration": 0,
    "start_time": "2024-01-24T14:39:58.688Z"
   },
   {
    "duration": 0,
    "start_time": "2024-01-24T14:39:58.689Z"
   },
   {
    "duration": 0,
    "start_time": "2024-01-24T14:39:58.690Z"
   },
   {
    "duration": 0,
    "start_time": "2024-01-24T14:39:58.691Z"
   },
   {
    "duration": 0,
    "start_time": "2024-01-24T14:39:58.693Z"
   },
   {
    "duration": 0,
    "start_time": "2024-01-24T14:39:58.694Z"
   },
   {
    "duration": 0,
    "start_time": "2024-01-24T14:39:58.696Z"
   },
   {
    "duration": 4,
    "start_time": "2024-01-24T14:40:18.573Z"
   },
   {
    "duration": 1448,
    "start_time": "2024-01-24T14:40:29.212Z"
   },
   {
    "duration": 45,
    "start_time": "2024-01-24T14:40:30.663Z"
   },
   {
    "duration": 12,
    "start_time": "2024-01-24T14:40:30.709Z"
   },
   {
    "duration": 34,
    "start_time": "2024-01-24T14:40:30.723Z"
   },
   {
    "duration": 40,
    "start_time": "2024-01-24T14:40:30.760Z"
   },
   {
    "duration": 48,
    "start_time": "2024-01-24T14:40:30.802Z"
   },
   {
    "duration": 30,
    "start_time": "2024-01-24T14:40:30.852Z"
   },
   {
    "duration": 139,
    "start_time": "2024-01-24T14:40:30.883Z"
   },
   {
    "duration": 0,
    "start_time": "2024-01-24T14:40:31.024Z"
   },
   {
    "duration": 0,
    "start_time": "2024-01-24T14:40:31.026Z"
   },
   {
    "duration": 0,
    "start_time": "2024-01-24T14:40:31.027Z"
   },
   {
    "duration": 0,
    "start_time": "2024-01-24T14:40:31.029Z"
   },
   {
    "duration": 0,
    "start_time": "2024-01-24T14:40:31.030Z"
   },
   {
    "duration": 0,
    "start_time": "2024-01-24T14:40:31.032Z"
   },
   {
    "duration": 0,
    "start_time": "2024-01-24T14:40:31.033Z"
   },
   {
    "duration": 0,
    "start_time": "2024-01-24T14:40:31.035Z"
   },
   {
    "duration": 0,
    "start_time": "2024-01-24T14:40:31.036Z"
   },
   {
    "duration": 1627,
    "start_time": "2024-01-24T14:41:08.631Z"
   },
   {
    "duration": 45,
    "start_time": "2024-01-24T14:41:10.261Z"
   },
   {
    "duration": 13,
    "start_time": "2024-01-24T14:41:10.308Z"
   },
   {
    "duration": 5,
    "start_time": "2024-01-24T14:41:10.323Z"
   },
   {
    "duration": 33,
    "start_time": "2024-01-24T14:41:10.331Z"
   },
   {
    "duration": 13,
    "start_time": "2024-01-24T14:41:10.366Z"
   },
   {
    "duration": 4,
    "start_time": "2024-01-24T14:41:10.381Z"
   },
   {
    "duration": 11,
    "start_time": "2024-01-24T14:41:10.387Z"
   },
   {
    "duration": 25,
    "start_time": "2024-01-24T14:41:10.400Z"
   },
   {
    "duration": 126,
    "start_time": "2024-01-24T14:41:10.459Z"
   },
   {
    "duration": 0,
    "start_time": "2024-01-24T14:41:10.588Z"
   },
   {
    "duration": 0,
    "start_time": "2024-01-24T14:41:10.589Z"
   },
   {
    "duration": 0,
    "start_time": "2024-01-24T14:41:10.591Z"
   },
   {
    "duration": 0,
    "start_time": "2024-01-24T14:41:10.592Z"
   },
   {
    "duration": 0,
    "start_time": "2024-01-24T14:41:10.594Z"
   },
   {
    "duration": 0,
    "start_time": "2024-01-24T14:41:10.595Z"
   },
   {
    "duration": 0,
    "start_time": "2024-01-24T14:41:10.597Z"
   },
   {
    "duration": 1522,
    "start_time": "2024-01-24T14:41:22.860Z"
   },
   {
    "duration": 43,
    "start_time": "2024-01-24T14:41:24.384Z"
   },
   {
    "duration": 12,
    "start_time": "2024-01-24T14:41:24.429Z"
   },
   {
    "duration": 10,
    "start_time": "2024-01-24T14:41:24.444Z"
   },
   {
    "duration": 44,
    "start_time": "2024-01-24T14:41:24.456Z"
   },
   {
    "duration": 16,
    "start_time": "2024-01-24T14:41:24.502Z"
   },
   {
    "duration": 9,
    "start_time": "2024-01-24T14:41:24.520Z"
   },
   {
    "duration": 12,
    "start_time": "2024-01-24T14:41:24.531Z"
   },
   {
    "duration": 37,
    "start_time": "2024-01-24T14:41:24.545Z"
   },
   {
    "duration": 4,
    "start_time": "2024-01-24T14:41:24.585Z"
   },
   {
    "duration": 128,
    "start_time": "2024-01-24T14:41:24.590Z"
   },
   {
    "duration": 0,
    "start_time": "2024-01-24T14:41:24.720Z"
   },
   {
    "duration": 0,
    "start_time": "2024-01-24T14:41:24.721Z"
   },
   {
    "duration": 0,
    "start_time": "2024-01-24T14:41:24.722Z"
   },
   {
    "duration": 0,
    "start_time": "2024-01-24T14:41:24.723Z"
   },
   {
    "duration": 0,
    "start_time": "2024-01-24T14:41:24.724Z"
   },
   {
    "duration": 1562,
    "start_time": "2024-01-24T14:41:51.075Z"
   },
   {
    "duration": 50,
    "start_time": "2024-01-24T14:41:52.638Z"
   },
   {
    "duration": 13,
    "start_time": "2024-01-24T14:41:52.690Z"
   },
   {
    "duration": 23,
    "start_time": "2024-01-24T14:41:52.705Z"
   },
   {
    "duration": 26,
    "start_time": "2024-01-24T14:41:52.730Z"
   },
   {
    "duration": 16,
    "start_time": "2024-01-24T14:41:52.759Z"
   },
   {
    "duration": 9,
    "start_time": "2024-01-24T14:41:52.776Z"
   },
   {
    "duration": 21,
    "start_time": "2024-01-24T14:41:52.786Z"
   },
   {
    "duration": 33,
    "start_time": "2024-01-24T14:41:52.808Z"
   },
   {
    "duration": 4,
    "start_time": "2024-01-24T14:41:52.843Z"
   },
   {
    "duration": 9,
    "start_time": "2024-01-24T14:41:52.849Z"
   },
   {
    "duration": 11,
    "start_time": "2024-01-24T14:41:52.860Z"
   },
   {
    "duration": 118990,
    "start_time": "2024-01-24T14:41:52.877Z"
   },
   {
    "duration": 134,
    "start_time": "2024-01-24T14:43:51.871Z"
   },
   {
    "duration": 0,
    "start_time": "2024-01-24T14:43:52.006Z"
   },
   {
    "duration": 0,
    "start_time": "2024-01-24T14:43:52.007Z"
   },
   {
    "duration": 12,
    "start_time": "2024-01-24T14:44:06.773Z"
   },
   {
    "duration": 37,
    "start_time": "2024-01-24T14:44:22.473Z"
   },
   {
    "duration": 554,
    "start_time": "2024-01-24T14:44:23.731Z"
   },
   {
    "duration": 40,
    "start_time": "2024-01-24T14:44:26.351Z"
   },
   {
    "duration": 36,
    "start_time": "2024-01-24T14:44:39.003Z"
   },
   {
    "duration": 3,
    "start_time": "2024-01-24T14:44:43.852Z"
   },
   {
    "duration": 13,
    "start_time": "2024-01-24T14:44:55.945Z"
   },
   {
    "duration": 4,
    "start_time": "2024-01-24T14:45:21.808Z"
   },
   {
    "duration": 3,
    "start_time": "2024-01-24T14:45:24.035Z"
   },
   {
    "duration": 1455,
    "start_time": "2024-01-24T14:46:11.925Z"
   },
   {
    "duration": 50,
    "start_time": "2024-01-24T14:46:13.381Z"
   },
   {
    "duration": 15,
    "start_time": "2024-01-24T14:46:13.433Z"
   },
   {
    "duration": 20,
    "start_time": "2024-01-24T14:46:13.451Z"
   },
   {
    "duration": 35,
    "start_time": "2024-01-24T14:46:13.474Z"
   },
   {
    "duration": 12,
    "start_time": "2024-01-24T14:46:13.511Z"
   },
   {
    "duration": 11,
    "start_time": "2024-01-24T14:46:13.525Z"
   },
   {
    "duration": 22,
    "start_time": "2024-01-24T14:46:13.538Z"
   },
   {
    "duration": 50,
    "start_time": "2024-01-24T14:46:13.562Z"
   },
   {
    "duration": 5,
    "start_time": "2024-01-24T14:46:13.614Z"
   },
   {
    "duration": 52,
    "start_time": "2024-01-24T14:46:13.621Z"
   },
   {
    "duration": 13,
    "start_time": "2024-01-24T14:46:13.674Z"
   },
   {
    "duration": 113232,
    "start_time": "2024-01-24T14:46:13.689Z"
   },
   {
    "duration": 581,
    "start_time": "2024-01-24T14:48:06.923Z"
   },
   {
    "duration": 37,
    "start_time": "2024-01-24T14:48:07.505Z"
   },
   {
    "duration": 15,
    "start_time": "2024-01-24T14:48:07.544Z"
   },
   {
    "duration": 32,
    "start_time": "2024-01-24T14:48:07.561Z"
   },
   {
    "duration": 4,
    "start_time": "2024-01-24T14:48:07.595Z"
   },
   {
    "duration": 18,
    "start_time": "2024-01-24T14:48:07.600Z"
   },
   {
    "duration": 2673,
    "start_time": "2024-01-24T16:37:37.028Z"
   },
   {
    "duration": 129,
    "start_time": "2024-01-24T16:37:39.703Z"
   },
   {
    "duration": 9,
    "start_time": "2024-01-24T16:37:39.834Z"
   },
   {
    "duration": 6,
    "start_time": "2024-01-24T16:37:39.844Z"
   },
   {
    "duration": 19,
    "start_time": "2024-01-24T16:37:39.852Z"
   },
   {
    "duration": 8,
    "start_time": "2024-01-24T16:37:39.872Z"
   },
   {
    "duration": 2,
    "start_time": "2024-01-24T16:37:39.882Z"
   },
   {
    "duration": 32,
    "start_time": "2024-01-24T16:37:39.886Z"
   },
   {
    "duration": 42,
    "start_time": "2024-01-24T16:37:39.919Z"
   },
   {
    "duration": 19,
    "start_time": "2024-01-24T16:37:39.963Z"
   },
   {
    "duration": 11,
    "start_time": "2024-01-24T16:37:39.983Z"
   },
   {
    "duration": 8,
    "start_time": "2024-01-24T16:37:39.995Z"
   },
   {
    "duration": 96445,
    "start_time": "2024-01-24T16:37:40.004Z"
   },
   {
    "duration": 479,
    "start_time": "2024-01-24T16:39:16.452Z"
   },
   {
    "duration": 39,
    "start_time": "2024-01-24T16:39:16.933Z"
   },
   {
    "duration": 3,
    "start_time": "2024-01-24T16:39:16.973Z"
   },
   {
    "duration": 51,
    "start_time": "2024-01-24T16:39:16.978Z"
   },
   {
    "duration": 16,
    "start_time": "2024-01-24T16:39:17.030Z"
   },
   {
    "duration": 22,
    "start_time": "2024-01-24T16:39:17.047Z"
   },
   {
    "duration": 12,
    "start_time": "2024-01-24T17:09:49.744Z"
   },
   {
    "duration": 11,
    "start_time": "2024-01-24T17:09:56.332Z"
   },
   {
    "duration": 11,
    "start_time": "2024-01-24T17:10:02.618Z"
   },
   {
    "duration": 47,
    "start_time": "2024-01-25T09:58:18.950Z"
   },
   {
    "duration": 1715,
    "start_time": "2024-01-25T09:58:27.747Z"
   },
   {
    "duration": 123,
    "start_time": "2024-01-25T09:58:29.464Z"
   },
   {
    "duration": 11,
    "start_time": "2024-01-25T09:58:29.588Z"
   },
   {
    "duration": 26,
    "start_time": "2024-01-25T09:58:29.600Z"
   },
   {
    "duration": 48,
    "start_time": "2024-01-25T09:58:29.628Z"
   },
   {
    "duration": 14,
    "start_time": "2024-01-25T09:58:29.677Z"
   },
   {
    "duration": 163,
    "start_time": "2024-01-25T09:58:29.693Z"
   },
   {
    "duration": 0,
    "start_time": "2024-01-25T09:58:29.857Z"
   },
   {
    "duration": 0,
    "start_time": "2024-01-25T09:58:29.859Z"
   },
   {
    "duration": 0,
    "start_time": "2024-01-25T09:58:29.860Z"
   },
   {
    "duration": 0,
    "start_time": "2024-01-25T09:58:29.861Z"
   },
   {
    "duration": 0,
    "start_time": "2024-01-25T09:58:29.862Z"
   },
   {
    "duration": 0,
    "start_time": "2024-01-25T09:58:29.863Z"
   },
   {
    "duration": 0,
    "start_time": "2024-01-25T09:58:29.864Z"
   },
   {
    "duration": 0,
    "start_time": "2024-01-25T09:58:29.865Z"
   },
   {
    "duration": 14,
    "start_time": "2024-01-25T10:01:51.104Z"
   },
   {
    "duration": 1324,
    "start_time": "2024-01-25T10:04:34.352Z"
   },
   {
    "duration": 39,
    "start_time": "2024-01-25T10:04:35.677Z"
   },
   {
    "duration": 10,
    "start_time": "2024-01-25T10:04:35.717Z"
   },
   {
    "duration": 4,
    "start_time": "2024-01-25T10:04:35.729Z"
   },
   {
    "duration": 22,
    "start_time": "2024-01-25T10:04:35.735Z"
   },
   {
    "duration": 3,
    "start_time": "2024-01-25T10:04:35.758Z"
   },
   {
    "duration": 7,
    "start_time": "2024-01-25T10:04:35.762Z"
   },
   {
    "duration": 8,
    "start_time": "2024-01-25T10:04:35.771Z"
   },
   {
    "duration": 99425,
    "start_time": "2024-01-25T10:04:35.780Z"
   },
   {
    "duration": 192,
    "start_time": "2024-01-25T10:06:15.207Z"
   },
   {
    "duration": 109,
    "start_time": "2024-01-25T10:06:15.401Z"
   },
   {
    "duration": 0,
    "start_time": "2024-01-25T10:06:15.511Z"
   },
   {
    "duration": 0,
    "start_time": "2024-01-25T10:06:15.512Z"
   },
   {
    "duration": 0,
    "start_time": "2024-01-25T10:06:15.513Z"
   },
   {
    "duration": 0,
    "start_time": "2024-01-25T10:06:15.515Z"
   },
   {
    "duration": 32,
    "start_time": "2024-01-25T10:11:14.651Z"
   },
   {
    "duration": 3,
    "start_time": "2024-01-25T10:11:17.913Z"
   },
   {
    "duration": 8,
    "start_time": "2024-01-25T10:12:15.771Z"
   },
   {
    "duration": 8,
    "start_time": "2024-01-25T10:12:29.184Z"
   },
   {
    "duration": 9,
    "start_time": "2024-01-25T10:12:31.429Z"
   },
   {
    "duration": 3,
    "start_time": "2024-01-25T10:12:34.010Z"
   },
   {
    "duration": 3,
    "start_time": "2024-01-25T10:12:36.471Z"
   }
  ],
  "kernelspec": {
   "display_name": "Python 3 (ipykernel)",
   "language": "python",
   "name": "python3"
  },
  "language_info": {
   "codemirror_mode": {
    "name": "ipython",
    "version": 3
   },
   "file_extension": ".py",
   "mimetype": "text/x-python",
   "name": "python",
   "nbconvert_exporter": "python",
   "pygments_lexer": "ipython3",
   "version": "3.9.5"
  },
  "toc": {
   "base_numbering": 1,
   "nav_menu": {},
   "number_sections": true,
   "sideBar": true,
   "skip_h1_title": true,
   "title_cell": "Table of Contents",
   "title_sidebar": "Contents",
   "toc_cell": false,
   "toc_position": {},
   "toc_section_display": true,
   "toc_window_display": false
  }
 },
 "nbformat": 4,
 "nbformat_minor": 2
}
